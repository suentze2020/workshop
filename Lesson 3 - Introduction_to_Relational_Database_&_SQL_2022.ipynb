{
 "cells": [
  {
   "cell_type": "markdown",
   "metadata": {},
   "source": [
    "<h1><center>Lesson 3: Introduction to Relational Database and SQL</center></h1>"
   ]
  },
  {
   "cell_type": "markdown",
   "metadata": {},
   "source": [
    "<h1><center>Recap of List of Dictionaries (Combined use of list and dictionary)</center></h1>"
   ]
  },
  {
   "cell_type": "code",
   "execution_count": 5,
   "metadata": {},
   "outputs": [],
   "source": [
    "student1 = {\n",
    "   'Id':'1111',\n",
    "   'name':'David Chan',\n",
    "   'email':'david@cuhk.edu.hk'\n",
    "} \n",
    "student2 = {\n",
    "    'id':'1112',\n",
    "    'name':'Peter Lee',\n",
    "    'email':'peter@cuhk.edu.hk'\n",
    "}\n",
    "student3 = {\n",
    "    'id':'1113',\n",
    "    'name':'Mary Fung',\n",
    "    'email':'mary@cuhk.edu.hk'\n",
    "}"
   ]
  },
  {
   "cell_type": "code",
   "execution_count": 8,
   "metadata": {},
   "outputs": [
    {
     "name": "stdout",
     "output_type": "stream",
     "text": [
      "[{'Id': '1111', 'name': 'David Chan', 'email': 'david@cuhk.edu.hk'}, {'id': '1112', 'name': 'Peter Lee', 'email': 'peter@cuhk.edu.hk'}, {'id': '1113', 'name': 'Mary Fung', 'email': 'mary@cuhk.edu.hk'}]\n",
      "{'Id': '1111', 'name': 'David Chan', 'email': 'david@cuhk.edu.hk'}\n",
      "{'id': '1112', 'name': 'Peter Lee', 'email': 'peter@cuhk.edu.hk'}\n",
      "{'id': '1113', 'name': 'Mary Fung', 'email': 'mary@cuhk.edu.hk'}\n",
      "Individual entry: {'Id': '1111', 'name': 'David Chan', 'email': 'david@cuhk.edu.hk'}\n",
      "Key: Id Value: 1111\n",
      "Key: name Value: David Chan\n",
      "Key: email Value: david@cuhk.edu.hk\n",
      "Individual entry: {'id': '1112', 'name': 'Peter Lee', 'email': 'peter@cuhk.edu.hk'}\n",
      "Key: id Value: 1112\n",
      "Key: name Value: Peter Lee\n",
      "Key: email Value: peter@cuhk.edu.hk\n",
      "Individual entry: {'id': '1113', 'name': 'Mary Fung', 'email': 'mary@cuhk.edu.hk'}\n",
      "Key: id Value: 1113\n",
      "Key: name Value: Mary Fung\n",
      "Key: email Value: mary@cuhk.edu.hk\n"
     ]
    }
   ],
   "source": [
    "students = []               \n",
    "students.append(student1)  \n",
    "students.append(student2)\n",
    "students.append(student3)\n",
    "print(students) # Print list of student dictionaries\n",
    "# Loop through students list to print out individual dictionary\n",
    "for i in students:\n",
    "    print(i) # Individual dictionary\n",
    "    \n",
    "key = 0\n",
    "# Loop through student list \n",
    "for i in students:\n",
    "  print(\"Individual entry:\",i) # print out individual dictionary           \n",
    "  for key in i: # Loop through each dictionary to print out individual entry          \n",
    "    print(\"Key:\",key,\"Value:\",i[key])"
   ]
  },
  {
   "cell_type": "markdown",
   "metadata": {},
   "source": [
    "<h1><center>Python Function and Its Use</center></h1>"
   ]
  },
  {
   "cell_type": "code",
   "execution_count": 11,
   "metadata": {},
   "outputs": [
    {
     "name": "stdout",
     "output_type": "stream",
     "text": [
      "Result =  30\n"
     ]
    }
   ],
   "source": [
    "def calc_avg(x,y):\n",
    "    result = x + y\n",
    "    return result\n",
    "\n",
    "print(\"Result = \", calc_avg(10,20))"
   ]
  },
  {
   "cell_type": "markdown",
   "metadata": {},
   "source": [
    "<h1>Entering the temperature in Celcius through input box inside a loop and print out each day's temperature and calculate the weekly average in Fahrenheit.</h1>"
   ]
  },
  {
   "cell_type": "markdown",
   "metadata": {},
   "source": [
    "<h3>Formula for converting Celcius into Fahrenheit: (23°C × 9/5) + 32 = 73.4°F\n",
    "Create a list of temperature in Fahrenheit for the week based on the temperature of Celcius as follows:</h3>\n",
    "\n",
    "    Sun  Mon  Tue  Wed  Thu  Fri  Sat\n",
    "    23°C 24°C  28°C 19°C 17°C  21°C 25°C"
   ]
  },
  {
   "cell_type": "markdown",
   "metadata": {},
   "source": [
    "<h2>After processing the loop, the <span style=\"color:red;\">weekly_temp</span> list contains the daily temperature throughout the week.</h2>"
   ]
  },
  {
   "cell_type": "code",
   "execution_count": 3,
   "metadata": {},
   "outputs": [
    {
     "name": "stdout",
     "output_type": "stream",
     "text": [
      "Enter Sun's temperature in celcius:23\n",
      "Sun's temperature in Fahrenheit:73.4\n",
      "Enter Mon's temperature in celcius:24\n",
      "Mon's temperature in Fahrenheit:75.2\n",
      "Enter Tue's temperature in celcius:28\n",
      "Tue's temperature in Fahrenheit:82.4\n",
      "Enter Wed's temperature in celcius:19\n",
      "Wed's temperature in Fahrenheit:66.2\n",
      "Enter Thu's temperature in celcius:17\n",
      "Thu's temperature in Fahrenheit:62.6\n",
      "Enter Fri's temperature in celcius:21\n",
      "Fri's temperature in Fahrenheit:69.8\n",
      "Enter Sat's temperature in celcius:25\n",
      "Sat's temperature in Fahrenheit:77.0\n",
      "\n",
      "\n",
      "Average temperature for the week:72.37\n"
     ]
    }
   ],
   "source": [
    "weekly_temp = []\n",
    "total_temp = 0\n",
    "week_of_day =['Sun','Mon','Tue','Wed','Thu','Fri','Sat']\n",
    "for i in week_of_day:\n",
    "    temp = input(\"Enter \" + i + \"'s temperature in celcius:\")\n",
    "    temp = (float(temp) * 9/5) + 32 \n",
    "    weekly_temp.append(temp)\n",
    "    print(i + \"'s temperature in Fahrenheit:\" + str(temp))\n",
    "    total_temp = total_temp + float(temp)\n",
    "avg_temp = round((total_temp/7),2)\n",
    "print(\"\\n\")\n",
    "print(\"Average temperature for the week:\" + str(avg_temp))"
   ]
  },
  {
   "cell_type": "code",
   "execution_count": 4,
   "metadata": {},
   "outputs": [
    {
     "data": {
      "text/plain": [
       "[73.4, 75.2, 82.4, 66.2, 62.6, 69.8, 77.0]"
      ]
     },
     "execution_count": 4,
     "metadata": {},
     "output_type": "execute_result"
    }
   ],
   "source": [
    "weekly_temp"
   ]
  },
  {
   "cell_type": "markdown",
   "metadata": {},
   "source": [
    "## <h1><center>Use Function to Calculate Temperature</center></h1>"
   ]
  },
  {
   "cell_type": "code",
   "execution_count": 19,
   "metadata": {},
   "outputs": [
    {
     "name": "stdout",
     "output_type": "stream",
     "text": [
      "Enter Sun's temperature in celcius:24\n",
      "Sun's temperature in Fahrenheit:75.2\n",
      "Enter Mon's temperature in celcius:23\n",
      "Mon's temperature in Fahrenheit:73.4\n",
      "Enter Tue's temperature in celcius:28\n",
      "Tue's temperature in Fahrenheit:82.4\n",
      "Enter Wed's temperature in celcius:19\n",
      "Wed's temperature in Fahrenheit:66.2\n",
      "Enter Thu's temperature in celcius:17\n",
      "Thu's temperature in Fahrenheit:62.6\n",
      "Enter Fri's temperature in celcius:21\n",
      "Fri's temperature in Fahrenheit:69.8\n",
      "Enter Sat's temperature in celcius:25\n",
      "Sat's temperature in Fahrenheit:77.0\n",
      "\n",
      "\n",
      "Average temperature for the week:72.37\n"
     ]
    }
   ],
   "source": [
    "def calc_total_temp(week_of_day):\n",
    "    weekly_temp = []\n",
    "    total_temp = 0\n",
    "    for i in week_of_day:\n",
    "        temp = input(\"Enter \" + i + \"'s temperature in celcius:\")\n",
    "        temp = (float(temp) * 9/5) + 32 \n",
    "        weekly_temp.append(temp)\n",
    "        print(i + \"'s temperature in Fahrenheit:\" + str(temp))\n",
    "        total_temp = total_temp + float(temp)\n",
    "    return total_temp\n",
    "    \n",
    "week_of_day =['Sun','Mon','Tue','Wed','Thu','Fri','Sat']\n",
    "total_temp = calc_total_temp(week_of_day)\n",
    "avg_temp = round((total_temp/7),2)\n",
    "print(\"\\n\")\n",
    "print(\"Average temperature for the week:\" + str(avg_temp))"
   ]
  },
  {
   "cell_type": "markdown",
   "metadata": {},
   "source": [
    "## <h1><center>Functions & Classes</center></h1>"
   ]
  },
  {
   "cell_type": "code",
   "execution_count": 14,
   "metadata": {},
   "outputs": [
    {
     "name": "stdout",
     "output_type": "stream",
     "text": [
      "Bernard : 80\n",
      "John : 90\n",
      "Peter : 100\n",
      "Average score = 90.0\n"
     ]
    }
   ],
   "source": [
    "students = [\n",
    "        {\"name\":\"Bernard\", \"score\":80},\n",
    "        {\"name\":\"John\", \"score\":90},\n",
    "        {\"name\":\"Peter\", \"score\":100},\n",
    "]\n",
    "\n",
    "def avg(students):\n",
    "    total = 0\n",
    "    count = len(students)\n",
    "    for student in students:\n",
    "        print(student['name'],':',student['score'])\n",
    "        total = total + student['score']\n",
    "    return total/count\n",
    "    \n",
    "    \n",
    "result = avg(students)\n",
    "print(\"Average score =\",result)"
   ]
  },
  {
   "cell_type": "code",
   "execution_count": 15,
   "metadata": {},
   "outputs": [
    {
     "name": "stdout",
     "output_type": "stream",
     "text": [
      "Bernard : 80\n",
      "John : 90\n",
      "Peter : 100\n",
      "Average Score = 90\n",
      "<Person('Bernard'. 80)>\n"
     ]
    }
   ],
   "source": [
    "class Student:\n",
    "    studentCount = 0\n",
    "    studentScore = 0\n",
    "    avgScore = 0\n",
    "\n",
    "    def __init__(self, name, score):\n",
    "        self.name = name\n",
    "        self.score = score\n",
    "        Student.studentCount += 1\n",
    "        Student.studentScore += score\n",
    "\n",
    "    def displayStudent(self):\n",
    "        # print(\"Name : \", self.name,  \", Score: \", self.score)\n",
    "        print(self.name,\":\", self.score) \n",
    "    \n",
    "    #def __str__(self):\n",
    "    #    return f\"Person {self.name} has {self.score} points.\"\n",
    "      \n",
    "    def __repr__(self):\n",
    "        return f\"<Person('{self.name}'. {self.score})>\"\n",
    "\n",
    "student1 = Student(\"Bernard\", 80)\n",
    "student2 = Student(\"John\", 90)\n",
    "student3 = Student(\"Peter\", 100)\n",
    "student1.displayStudent()\n",
    "student2.displayStudent()\n",
    "student3.displayStudent()\n",
    "avg_score = Student.studentScore/Student.studentCount\n",
    "print(\"Average Score = %d\" % avg_score)\n",
    "print(student1)"
   ]
  },
  {
   "cell_type": "markdown",
   "metadata": {},
   "source": [
    "<h2>Import a moudle <span style=\"color:red;\">convert_temp</span> which contains the functions for entering (in Celcius) and calculating the daily temperature (in Fahrenheit) throughout the week.</h2>"
   ]
  },
  {
   "cell_type": "code",
   "execution_count": 5,
   "metadata": {},
   "outputs": [
    {
     "name": "stdout",
     "output_type": "stream",
     "text": [
      "Enter Sun's temperature in celcius:23\n",
      "Sun's temperature in Fahrenheit:73.4\n",
      "Enter Mon's temperature in celcius:24\n",
      "Mon's temperature in Fahrenheit:75.2\n",
      "Enter Tue's temperature in celcius:28\n",
      "Tue's temperature in Fahrenheit:82.4\n",
      "Enter Wed's temperature in celcius:19\n",
      "Wed's temperature in Fahrenheit:66.2\n",
      "Enter Thu's temperature in celcius:17\n",
      "Thu's temperature in Fahrenheit:62.6\n",
      "Enter Fri's temperature in celcius:21\n",
      "Fri's temperature in Fahrenheit:69.8\n",
      "Enter Sat's temperature in celcius:25\n",
      "Sat's temperature in Fahrenheit:77.0\n",
      "\n",
      "Average temperature for the week:72.37\n"
     ]
    }
   ],
   "source": [
    "from convert_temp import *\n",
    "# Move the following functions into convert_temp module file.\n",
    "\n",
    "total_temp = 0\n",
    "total_temp = get_daily_celcius()\n",
    "display_avg(total_temp)"
   ]
  },
  {
   "cell_type": "markdown",
   "metadata": {},
   "source": [
    "<h2>Import a package <span style=\"color:red;\">temppackage</span> which contains the functions for entering (in Celcius) and calculating the daily temperature (in Fahrenheit) throughout the week.</h2>"
   ]
  },
  {
   "cell_type": "code",
   "execution_count": 7,
   "metadata": {},
   "outputs": [
    {
     "name": "stdout",
     "output_type": "stream",
     "text": [
      "Enter Sun's temperature in celcius:23\n",
      "Sun's temperature in Fahrenheit:73.4\n",
      "Enter Mon's temperature in celcius:24\n",
      "Mon's temperature in Fahrenheit:75.2\n",
      "Enter Tue's temperature in celcius:28\n",
      "Tue's temperature in Fahrenheit:82.4\n",
      "Enter Wed's temperature in celcius:19\n",
      "Wed's temperature in Fahrenheit:66.2\n",
      "Enter Thu's temperature in celcius:17\n",
      "Thu's temperature in Fahrenheit:62.6\n",
      "Enter Fri's temperature in celcius:21\n",
      "Fri's temperature in Fahrenheit:69.8\n",
      "Enter Sat's temperature in celcius:25\n",
      "Sat's temperature in Fahrenheit:77.0\n",
      "\n",
      "Average temperature for the week:72.37\n"
     ]
    }
   ],
   "source": [
    "from temppackage.convert_temp import *\n",
    "total_temp = 0\n",
    "total_temp = get_daily_celcius()\n",
    "display_avg(total_temp)"
   ]
  },
  {
   "cell_type": "markdown",
   "metadata": {},
   "source": [
    "<h1><center>Simpe Introduction to Data Visualization in Matplotlib Library</center></h1>"
   ]
  },
  {
   "cell_type": "markdown",
   "metadata": {},
   "source": [
    "<h1><center>Creating a Bar Chart</center></h1>"
   ]
  },
  {
   "cell_type": "code",
   "execution_count": 2,
   "metadata": {},
   "outputs": [
    {
     "data": {
      "image/png": "[encoded data removed]",
      "text/plain": [
       "<Figure size 432x288 with 1 Axes>"
      ]
     },
     "metadata": {
      "needs_background": "light"
     },
     "output_type": "display_data"
    }
   ],
   "source": [
    "from matplotlib import pyplot as plt\n",
    "drinks = [\"Cappuccino\", \"Latte\", \"Jasmine\", \"Americano\", \"Chocolate\", \"Peppermint\"]\n",
    "sales = [191, 176, 156, 166, 152, 127]\n",
    "plt.bar(range(len(drinks)),sales)\n",
    "# Create your ax object here\n",
    "ax = plt.subplot()\n",
    "ax.set_xticks([0,1,2,3,4,5])\n",
    "ax.set_xticklabels(drinks, rotation=30)\n",
    "plt.show()"
   ]
  },
  {
   "cell_type": "markdown",
   "metadata": {},
   "source": [
    "<h1><center>Hours Tracking without Customized Functions</center></h1>"
   ]
  },
  {
   "cell_type": "code",
   "execution_count": 3,
   "metadata": {},
   "outputs": [
    {
     "name": "stdout",
     "output_type": "stream",
     "text": [
      "Enter Week 1's hours for task 1:15\n",
      "Enter Week 1's hours for task 2:20\n",
      "Enter Week 1's hours for task 3:25\n",
      "Enter Week 1's hours for task 4:30\n",
      "Enter Week 2's hours for task 1:13\n",
      "Enter Week 2's hours for task 2:14\n",
      "Enter Week 2's hours for task 3:15\n",
      "Enter Week 2's hours for task 4:16\n",
      "Enter Week 3's hours for task 1:23\n",
      "Enter Week 3's hours for task 2:24\n",
      "Enter Week 3's hours for task 3:21\n",
      "Enter Week 3's hours for task 4:20\n",
      "Enter Week 4's hours for task 1:21\n",
      "Enter Week 4's hours for task 2:30\n",
      "Enter Week 4's hours for task 3:22\n",
      "Enter Week 4's hours for task 4:32\n",
      "[{'Week': 'Week 1', 'Task 1': 15.0, 'Task 2': 20.0, 'Task 3': 25.0, 'Task 4': 30.0}, {'Week': 'Week 2', 'Task 1': 13.0, 'Task 2': 14.0, 'Task 3': 15.0, 'Task 4': 16.0}, {'Week': 'Week 3', 'Task 1': 23.0, 'Task 2': 24.0, 'Task 3': 21.0, 'Task 4': 20.0}, {'Week': 'Week 4', 'Task 1': 21.0, 'Task 2': 30.0, 'Task 3': 22.0, 'Task 4': 32.0}]\n"
     ]
    },
    {
     "data": {
      "text/html": [
       "<div>\n",
       "<style scoped>\n",
       "    .dataframe tbody tr th:only-of-type {\n",
       "        vertical-align: middle;\n",
       "    }\n",
       "\n",
       "    .dataframe tbody tr th {\n",
       "        vertical-align: top;\n",
       "    }\n",
       "\n",
       "    .dataframe thead th {\n",
       "        text-align: right;\n",
       "    }\n",
       "</style>\n",
       "<table border=\"1\" class=\"dataframe\">\n",
       "  <thead>\n",
       "    <tr style=\"text-align: right;\">\n",
       "      <th></th>\n",
       "      <th>Task 1</th>\n",
       "      <th>Task 2</th>\n",
       "      <th>Task 3</th>\n",
       "      <th>Task 4</th>\n",
       "      <th>Week</th>\n",
       "    </tr>\n",
       "  </thead>\n",
       "  <tbody>\n",
       "    <tr>\n",
       "      <th>0</th>\n",
       "      <td>15.0</td>\n",
       "      <td>20.0</td>\n",
       "      <td>25.0</td>\n",
       "      <td>30.0</td>\n",
       "      <td>Week 1</td>\n",
       "    </tr>\n",
       "    <tr>\n",
       "      <th>1</th>\n",
       "      <td>13.0</td>\n",
       "      <td>14.0</td>\n",
       "      <td>15.0</td>\n",
       "      <td>16.0</td>\n",
       "      <td>Week 2</td>\n",
       "    </tr>\n",
       "    <tr>\n",
       "      <th>2</th>\n",
       "      <td>23.0</td>\n",
       "      <td>24.0</td>\n",
       "      <td>21.0</td>\n",
       "      <td>20.0</td>\n",
       "      <td>Week 3</td>\n",
       "    </tr>\n",
       "    <tr>\n",
       "      <th>3</th>\n",
       "      <td>21.0</td>\n",
       "      <td>30.0</td>\n",
       "      <td>22.0</td>\n",
       "      <td>32.0</td>\n",
       "      <td>Week 4</td>\n",
       "    </tr>\n",
       "  </tbody>\n",
       "</table>\n",
       "</div>"
      ],
      "text/plain": [
       "   Task 1  Task 2  Task 3  Task 4    Week\n",
       "0    15.0    20.0    25.0    30.0  Week 1\n",
       "1    13.0    14.0    15.0    16.0  Week 2\n",
       "2    23.0    24.0    21.0    20.0  Week 3\n",
       "3    21.0    30.0    22.0    32.0  Week 4"
      ]
     },
     "execution_count": 3,
     "metadata": {},
     "output_type": "execute_result"
    }
   ],
   "source": [
    "import pandas as pd\n",
    "weekly_hours = []\n",
    "week_of_month =['Week 1','Week 2','Week 3','Week 4']\n",
    "for i in week_of_month:\n",
    "    task_1 = float(input(\"Enter \" + i + \"'s hours for task 1:\"))\n",
    "    task_2 = float(input(\"Enter \" + i + \"'s hours for task 2:\"))\n",
    "    task_3 = float(input(\"Enter \" + i + \"'s hours for task 3:\"))\n",
    "    task_4 = float(input(\"Enter \" + i + \"'s hours for task 4:\"))\n",
    "    weekly_hours.append({'Week':i,'Task 1':task_1,'Task 2':task_2,'Task 3':task_3, 'Task 4':task_4})\n",
    "print(weekly_hours)\n",
    "df = pd.DataFrame(weekly_hours) # Assign the list of dictionaries to a dataframe\n",
    "df.to_csv('weekly_hours.csv',mode='w',index=False)\n",
    "df"
   ]
  },
  {
   "cell_type": "code",
   "execution_count": 5,
   "metadata": {},
   "outputs": [
    {
     "name": "stdout",
     "output_type": "stream",
     "text": [
      "Task List: \n",
      " [[15.0, 20.0, 25.0, 30.0, 'Week 1'], [13.0, 14.0, 15.0, 16.0, 'Week 2'], [23.0, 24.0, 21.0, 20.0, 'Week 3'], [21.0, 30.0, 22.0, 32.0, 'Week 4']]\n"
     ]
    },
    {
     "data": {
      "image/png": "[encoded data removed]",
      "text/plain": [
       "<Figure size 432x288 with 1 Axes>"
      ]
     },
     "metadata": {
      "needs_background": "light"
     },
     "output_type": "display_data"
    }
   ],
   "source": [
    "import pandas as pd\n",
    "from matplotlib import pyplot as plt\n",
    "df = pd.read_csv(\"weekly_hours.csv\") # import csv file by using the read_csv functon in Pandas\n",
    "df # list the dataframe\n",
    "task_list = df.values.tolist()\n",
    "print(\"Task List:\",\"\\n\",task_list)\n",
    "week_of_month = []\n",
    "task_1 = []\n",
    "task_2 = []\n",
    "task_3 = []\n",
    "task_4 = []\n",
    "avg = []\n",
    "total = 0\n",
    "for i in task_list:\n",
    "    task_1.append(i[0])\n",
    "    task_2.append(i[1])\n",
    "    task_3.append(i[2])\n",
    "    task_4.append(i[3])\n",
    "    week_of_month.append(i[4])\n",
    "    total = float(i[0]) + float(i[1]) + float(i[2]) + float(i[3])\n",
    "    avg.append(total/4)\n",
    "plt.plot(week_of_month, task_1, color='purple',marker='D')\n",
    "plt.plot(week_of_month, task_2, color='orange',marker='s')\n",
    "plt.plot(week_of_month, task_3, color='red',marker='p')\n",
    "plt.plot(week_of_month, task_4, color='green',marker='*')\n",
    "plt.plot(week_of_month, avg, color='brown',linestyle='--')\n",
    "plt.legend(['Task 1', 'Task 2','Task 3','Task 4','Avg',]) \n",
    "plt.xlabel(\"Week of Month\")\n",
    "plt.ylabel(\"Hours\")\n",
    "plt.title('Tasks Comparison')\n",
    "plt.show()"
   ]
  },
  {
   "cell_type": "markdown",
   "metadata": {},
   "source": [
    "<h1><center>Hours Tracking with Customized Functions</center></h1>"
   ]
  },
  {
   "cell_type": "code",
   "execution_count": 23,
   "metadata": {},
   "outputs": [
    {
     "name": "stdout",
     "output_type": "stream",
     "text": [
      "Enter Week 1's hours for task 1:8\n",
      "Enter Week 1's hours for task 2:9\n",
      "Enter Week 1's hours for task 3:10\n",
      "Enter Week 1's hours for task 4:11\n",
      "Enter Week 2's hours for task 1:12\n",
      "Enter Week 2's hours for task 2:11\n",
      "Enter Week 2's hours for task 3:10\n",
      "Enter Week 2's hours for task 4:9\n",
      "Enter Week 3's hours for task 1:9\n",
      "Enter Week 3's hours for task 2:10\n",
      "Enter Week 3's hours for task 3:11\n",
      "Enter Week 3's hours for task 4:12\n",
      "Enter Week 4's hours for task 1:11\n",
      "Enter Week 4's hours for task 2:10\n",
      "Enter Week 4's hours for task 3:9\n",
      "Enter Week 4's hours for task 4:8\n"
     ]
    },
    {
     "data": {
      "image/png": "[encoded data removed]",
      "text/plain": [
       "<Figure size 432x288 with 1 Axes>"
      ]
     },
     "metadata": {
      "needs_background": "light"
     },
     "output_type": "display_data"
    },
    {
     "data": {
      "text/html": [
       "<div>\n",
       "<style scoped>\n",
       "    .dataframe tbody tr th:only-of-type {\n",
       "        vertical-align: middle;\n",
       "    }\n",
       "\n",
       "    .dataframe tbody tr th {\n",
       "        vertical-align: top;\n",
       "    }\n",
       "\n",
       "    .dataframe thead th {\n",
       "        text-align: right;\n",
       "    }\n",
       "</style>\n",
       "<table border=\"1\" class=\"dataframe\">\n",
       "  <thead>\n",
       "    <tr style=\"text-align: right;\">\n",
       "      <th></th>\n",
       "      <th>Task 1</th>\n",
       "      <th>Task 2</th>\n",
       "      <th>Task 3</th>\n",
       "      <th>Task 4</th>\n",
       "      <th>Week</th>\n",
       "    </tr>\n",
       "  </thead>\n",
       "  <tbody>\n",
       "    <tr>\n",
       "      <th>0</th>\n",
       "      <td>9.0</td>\n",
       "      <td>10.0</td>\n",
       "      <td>11.0</td>\n",
       "      <td>12.0</td>\n",
       "      <td>Week 1</td>\n",
       "    </tr>\n",
       "    <tr>\n",
       "      <th>1</th>\n",
       "      <td>10.0</td>\n",
       "      <td>11.0</td>\n",
       "      <td>13.0</td>\n",
       "      <td>12.0</td>\n",
       "      <td>Week 2</td>\n",
       "    </tr>\n",
       "    <tr>\n",
       "      <th>2</th>\n",
       "      <td>11.0</td>\n",
       "      <td>12.0</td>\n",
       "      <td>13.0</td>\n",
       "      <td>14.0</td>\n",
       "      <td>Week 3</td>\n",
       "    </tr>\n",
       "    <tr>\n",
       "      <th>3</th>\n",
       "      <td>25.0</td>\n",
       "      <td>14.0</td>\n",
       "      <td>13.0</td>\n",
       "      <td>12.0</td>\n",
       "      <td>Week 4</td>\n",
       "    </tr>\n",
       "  </tbody>\n",
       "</table>\n",
       "</div>"
      ],
      "text/plain": [
       "   Task 1  Task 2  Task 3  Task 4    Week\n",
       "0     9.0    10.0    11.0    12.0  Week 1\n",
       "1    10.0    11.0    13.0    12.0  Week 2\n",
       "2    11.0    12.0    13.0    14.0  Week 3\n",
       "3    25.0    14.0    13.0    12.0  Week 4"
      ]
     },
     "execution_count": 23,
     "metadata": {},
     "output_type": "execute_result"
    }
   ],
   "source": [
    "import pandas as pd\n",
    "from matplotlib import pyplot as plt\n",
    "\n",
    "def get_weekly_hours(week_of_month):\n",
    "    weekly_hours = []\n",
    "    for i in week_of_month:\n",
    "        task_1 = float(input(\"Enter \" + i + \"'s hours for task 1:\"))\n",
    "        task_2 = float(input(\"Enter \" + i + \"'s hours for task 2:\"))\n",
    "        task_3 = float(input(\"Enter \" + i + \"'s hours for task 3:\"))\n",
    "        task_4 = float(input(\"Enter \" + i + \"'s hours for task 4:\"))\n",
    "        weekly_hours.append({'Week':i,'Task 1':task_1,'Task 2':task_2,'Task 3':task_3, 'Task 4':task_4})\n",
    "    df = pd.DataFrame(weekly_hours) # Assign the list of dictionaries to a dataframe\n",
    "    return df\n",
    "\n",
    "\n",
    "def chart_tasks(week_of_month, task_1,task_2,task_3,task_4):\n",
    "    plt.plot(week_of_month, task_1, color='purple',marker='D')\n",
    "    plt.plot(week_of_month, task_2, color='orange',marker='s')\n",
    "    plt.plot(week_of_month, task_3, color='red',marker='p')\n",
    "    plt.plot(week_of_month, task_4, color='green',marker='*')\n",
    "    plt.plot(week_of_month, avg, color='brown',linestyle='--')\n",
    "    plt.legend(['Task 1', 'Task 2','Task 3','Task 4','Avg',]) \n",
    "    plt.xlabel(\"Week of Month\")\n",
    "    plt.ylabel(\"Hours\")\n",
    "    plt.title('Tasks Comparison')\n",
    "    plt.show()\n",
    "    return\n",
    "\n",
    "def prepare_tasks(task_list):\n",
    "    week_of_month = []\n",
    "    task_1 = []\n",
    "    task_2 = []\n",
    "    task_3 = []\n",
    "    task_4 = []\n",
    "    avg = []\n",
    "    total = 0\n",
    "    for i in task_list:\n",
    "        task_1.append(i[0])\n",
    "        task_2.append(i[1])\n",
    "        task_3.append(i[2])\n",
    "        task_4.append(i[3])\n",
    "        week_of_month.append(i[4])\n",
    "        total = float(i[0]) + float(i[1]) + float(i[2]) + float(i[3])\n",
    "        avg.append(total/4)\n",
    "    chart_tasks(week_of_month,task_1,task_2,task_3,task_4)\n",
    "    return\n",
    "#####################################################################\n",
    "week_of_month = ['Week 1','Week 2','Week 3','Week 4']   \n",
    "weekly_hours = get_weekly_hours(week_of_month)\n",
    "weekly_hours.to_csv('weekly_hours.csv',mode='w',index=False)\n",
    "task_hours = pd.read_csv(\"weekly_hours.csv\") # import csv file by using the read_csv functon in Pandas\n",
    "task_list = task_hours.values.tolist()\n",
    "prepare_tasks(task_list)\n",
    "df # list the dataframe"
   ]
  },
  {
   "cell_type": "markdown",
   "metadata": {},
   "source": [
    "<h1><center>Introduction to SQLite: DB Browser</center></h1>"
   ]
  },
  {
   "cell_type": "markdown",
   "metadata": {},
   "source": [
    "<a href=\"https://sqlitebrowser.org/dl/\" target=\"_blank\">Download DB Browser for SQLite</a>"
   ]
  }
 ],
 "metadata": {
  "kernelspec": {
   "display_name": "Python 3",
   "language": "python",
   "name": "python3"
  },
  "language_info": {
   "codemirror_mode": {
    "name": "ipython",
    "version": 3
   },
   "file_extension": ".py",
   "mimetype": "text/x-python",
   "name": "python",
   "nbconvert_exporter": "python",
   "pygments_lexer": "ipython3",
   "version": "3.7.3"
  }
 },
 "nbformat": 4,
 "nbformat_minor": 2
}
